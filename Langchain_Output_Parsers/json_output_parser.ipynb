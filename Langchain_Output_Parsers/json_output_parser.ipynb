{
 "cells": [
  {
   "cell_type": "code",
   "execution_count": 14,
   "id": "bd1be6c2",
   "metadata": {},
   "outputs": [
    {
     "name": "stdout",
     "output_type": "stream",
     "text": [
      "{'name': 'Olive', 'age': 35, 'city': 'Whimsyville'}\n",
      "<class 'dict'>\n"
     ]
    }
   ],
   "source": [
    "from langchain_huggingface import ChatHuggingFace, HuggingFaceEndpoint\n",
    "from langchain.prompts import PromptTemplate\n",
    "from langchain_core.output_parsers import JsonOutputParser\n",
    "from dotenv import load_dotenv\n",
    "import os\n",
    "\n",
    "load_dotenv()\n",
    "\n",
    "repo_id = \"mistralai/Mixtral-8x7B-Instruct-v0.1\"\n",
    "\n",
    "llm = HuggingFaceEndpoint(\n",
    "    repo_id=repo_id,\n",
    "    task= \"text-generation\",\n",
    "    huggingfacehub_api_token= os.getenv(\"HUGGINGFACEHUB_ACCESS_TOKEN\")\n",
    ")\n",
    "\n",
    "model = ChatHuggingFace(llm=llm)\n",
    "\n",
    "parser = JsonOutputParser()\n",
    "\n",
    "template = PromptTemplate(\n",
    "    template = \"give me the name, age and city of a fictional person \\n {format_instruction}\",\n",
    "    input_variables=[],\n",
    "    partial_variables= {\"format_instruction\" : parser.get_format_instructions()}\n",
    ")\n",
    "\n",
    "prompt = template.format()\n",
    "\n",
    "result = model.invoke(prompt)\n",
    "\n",
    "final_result = parser.parse(result.content)\n",
    "\n",
    "print(final_result)\n",
    "print(type(final_result))\n"
   ]
  },
  {
   "cell_type": "code",
   "execution_count": 15,
   "id": "0a14a30d",
   "metadata": {},
   "outputs": [
    {
     "name": "stdout",
     "output_type": "stream",
     "text": [
      "{'name': 'Olive', 'age': 35, 'city': 'Whimsyville'}\n",
      "<class 'dict'>\n"
     ]
    }
   ],
   "source": [
    "from langchain_huggingface import ChatHuggingFace, HuggingFaceEndpoint\n",
    "from langchain.prompts import PromptTemplate\n",
    "from langchain_core.output_parsers import JsonOutputParser\n",
    "from dotenv import load_dotenv\n",
    "import os\n",
    "\n",
    "load_dotenv()\n",
    "\n",
    "repo_id = \"mistralai/Mixtral-8x7B-Instruct-v0.1\"\n",
    "\n",
    "llm = HuggingFaceEndpoint(\n",
    "    repo_id=repo_id,\n",
    "    task= \"text-generation\",\n",
    "    huggingfacehub_api_token= os.getenv(\"HUGGINGFACEHUB_ACCESS_TOKEN\")\n",
    ")\n",
    "\n",
    "model = ChatHuggingFace(llm=llm)\n",
    "\n",
    "parser = JsonOutputParser()\n",
    "\n",
    "template = PromptTemplate(\n",
    "    template = \"give me the name, age and city of a fictional person \\n {format_instruction}\",\n",
    "    input_variables=[],\n",
    "    partial_variables= {\"format_instruction\" : parser.get_format_instructions()}\n",
    ")\n",
    "\n",
    "# using chains\n",
    "\n",
    "chain = template | model | parser\n",
    "\n",
    "result = chain.invoke({})\n",
    "\n",
    "print(result)\n",
    "print(type(result))\n",
    "\n"
   ]
  },
  {
   "cell_type": "code",
   "execution_count": null,
   "id": "329b2bd1",
   "metadata": {},
   "outputs": [],
   "source": []
  }
 ],
 "metadata": {
  "kernelspec": {
   "display_name": "myenv",
   "language": "python",
   "name": "python3"
  },
  "language_info": {
   "codemirror_mode": {
    "name": "ipython",
    "version": 3
   },
   "file_extension": ".py",
   "mimetype": "text/x-python",
   "name": "python",
   "nbconvert_exporter": "python",
   "pygments_lexer": "ipython3",
   "version": "3.11.4"
  }
 },
 "nbformat": 4,
 "nbformat_minor": 5
}
