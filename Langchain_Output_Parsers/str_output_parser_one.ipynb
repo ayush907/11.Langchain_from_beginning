{
 "cells": [
  {
   "cell_type": "code",
   "execution_count": 1,
   "id": "59aa7f6c",
   "metadata": {},
   "outputs": [
    {
     "name": "stderr",
     "output_type": "stream",
     "text": [
      "c:\\Users\\dheka\\OneDrive\\Desktop\\11.Langchain_from_beginning\\myenv\\Lib\\site-packages\\tqdm\\auto.py:21: TqdmWarning: IProgress not found. Please update jupyter and ipywidgets. See https://ipywidgets.readthedocs.io/en/stable/user_install.html\n",
      "  from .autonotebook import tqdm as notebook_tqdm\n"
     ]
    },
    {
     "name": "stdout",
     "output_type": "stream",
     "text": [
      " Hinduism, one of the world's oldest and largest religions, is a complex and diverse faith with a significant following in India and Nepal. With a belief in a single, ultimate reality (Brahman) and a cycle of death and rebirth (samsara), Hindus seek liberation (moksha) from this cycle. Hindu practices include puja, yoga, meditation, and living in accordance with dharma and karma, while traditions such as Vaishnavism, Shaivism, Shaktism, and Smartism emphasize different deities and rituals. Overall, Hinduism is a way of life that encompasses many aspects of daily life, including ethical and moral conduct, social obligations, and spiritual practices.\n"
     ]
    }
   ],
   "source": [
    "from langchain_huggingface import ChatHuggingFace, HuggingFaceEndpoint\n",
    "from langchain.prompts import PromptTemplate\n",
    "from dotenv import load_dotenv\n",
    "import os \n",
    "from langchain_core.output_parsers import StrOutputParser\n",
    "\n",
    "load_dotenv()\n",
    "\n",
    "repo_id = \"mistralai/Mixtral-8x7B-Instruct-v0.1\"\n",
    "\n",
    "llm = HuggingFaceEndpoint(\n",
    "    repo_id=repo_id,\n",
    "    task=\"text-generation\",\n",
    "    huggingfacehub_api_token=os.getenv(\"HUGGINGFACEHUB_ACCESS_TOKEN\")\n",
    ")\n",
    "\n",
    "model = ChatHuggingFace(llm=llm)\n",
    "\n",
    "template1 = PromptTemplate(\n",
    "    template = \"write a detailed report on {topic}\",\n",
    "    input_variables = [\"topic\"]\n",
    ")\n",
    "\n",
    "template2 = PromptTemplate(\n",
    "    template = \"write a 5 line summary on the following text.\\n {text}\",\n",
    "    input_variables = [\"text\"]\n",
    ")\n",
    "\n",
    "parser = StrOutputParser()\n",
    "\n",
    "chain = template1 | model | parser | template2 | model | parser\n",
    "\n",
    "result = chain.invoke({\"topic\" : \"hinduism\"})\n",
    "print(result)"
   ]
  },
  {
   "cell_type": "code",
   "execution_count": null,
   "id": "d7d1d371",
   "metadata": {},
   "outputs": [],
   "source": []
  }
 ],
 "metadata": {
  "kernelspec": {
   "display_name": "myenv",
   "language": "python",
   "name": "python3"
  },
  "language_info": {
   "codemirror_mode": {
    "name": "ipython",
    "version": 3
   },
   "file_extension": ".py",
   "mimetype": "text/x-python",
   "name": "python",
   "nbconvert_exporter": "python",
   "pygments_lexer": "ipython3",
   "version": "3.11.4"
  }
 },
 "nbformat": 4,
 "nbformat_minor": 5
}
