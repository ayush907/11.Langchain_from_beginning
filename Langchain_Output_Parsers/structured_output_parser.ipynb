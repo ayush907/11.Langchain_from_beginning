{
 "cells": [
  {
   "cell_type": "code",
   "execution_count": 1,
   "id": "0d365c5f",
   "metadata": {},
   "outputs": [
    {
     "name": "stderr",
     "output_type": "stream",
     "text": [
      "c:\\Users\\dheka\\OneDrive\\Desktop\\11.Langchain_from_beginning\\myenv\\Lib\\site-packages\\tqdm\\auto.py:21: TqdmWarning: IProgress not found. Please update jupyter and ipywidgets. See https://ipywidgets.readthedocs.io/en/stable/user_install.html\n",
      "  from .autonotebook import tqdm as notebook_tqdm\n"
     ]
    },
    {
     "name": "stdout",
     "output_type": "stream",
     "text": [
      "{'fact_1': 'A black hole is a region in space where gravity is so strong that nothing, not even light, can escape from it.', 'fact_2': 'Black holes can form from the remnants of massive stars after they collapse under their own gravity during a supernova explosion.', 'fact_3': 'The size of a black hole is determined by its mass, with larger black holes having stronger gravitational pulls and smaller event horizons.'}\n"
     ]
    }
   ],
   "source": [
    "from langchain_huggingface import ChatHuggingFace, HuggingFaceEndpoint\n",
    "from langchain.prompts import PromptTemplate\n",
    "from dotenv import load_dotenv\n",
    "import os \n",
    "from langchain.output_parsers import StructuredOutputParser, ResponseSchema\n",
    "\n",
    "load_dotenv()\n",
    "\n",
    "repo_id = \"mistralai/Mixtral-8x7B-Instruct-v0.1\"\n",
    "\n",
    "llm = HuggingFaceEndpoint(\n",
    "    repo_id=repo_id,\n",
    "    task=\"text-generation\",\n",
    "    huggingfacehub_api_token=os.getenv(\"HUGGINGFACEHUB_ACCESS_TOKEN\")\n",
    ")\n",
    "\n",
    "model = ChatHuggingFace(llm=llm)\n",
    "\n",
    "schema = [\n",
    "    ResponseSchema(name=\"fact_1\", description=\"Fact 1 about the topic\"),\n",
    "    ResponseSchema(name=\"fact_1\", description=\"Fact 2 about the topic\"),\n",
    "    ResponseSchema(name=\"fact_1\", description=\"Fact 3 about the topic\"),\n",
    "]\n",
    "\n",
    "parser = StructuredOutputParser.from_response_schemas(schema)\n",
    "\n",
    "template = PromptTemplate(\n",
    "    template= \"give 3 facts about the {topic} \\n {format_instruction}\",\n",
    "    input_variables=[\"topic\"],\n",
    "    partial_variables={'format_instruction': parser.get_format_instructions()}\n",
    ")\n",
    "\n",
    "prompt = template.invoke({\"topic\": \"black hole\"})\n",
    "\n",
    "result = model.invoke(prompt)\n",
    "\n",
    "final_result = parser.parse(result.content)\n",
    "\n",
    "print(final_result)"
   ]
  },
  {
   "cell_type": "code",
   "execution_count": 3,
   "id": "77fadb96",
   "metadata": {},
   "outputs": [
    {
     "name": "stdout",
     "output_type": "stream",
     "text": [
      "{'fact_1': 'A black hole is a region in space where gravity is so strong that nothing, not even light, can escape from it.', 'fact_2': 'Black holes can form from the remnants of massive stars after they collapse under their own gravity during a supernova explosion.', 'fact_3': 'The size of a black hole is determined by its mass, with larger black holes having stronger gravitational pulls and smaller event horizons.'}\n"
     ]
    }
   ],
   "source": [
    "from langchain_huggingface import ChatHuggingFace, HuggingFaceEndpoint\n",
    "from langchain.prompts import PromptTemplate\n",
    "from dotenv import load_dotenv\n",
    "import os \n",
    "from langchain.output_parsers import StructuredOutputParser, ResponseSchema\n",
    "\n",
    "load_dotenv()\n",
    "\n",
    "repo_id = \"mistralai/Mixtral-8x7B-Instruct-v0.1\"\n",
    "\n",
    "llm = HuggingFaceEndpoint(\n",
    "    repo_id=repo_id,\n",
    "    task=\"text-generation\",\n",
    "    huggingfacehub_api_token=os.getenv(\"HUGGINGFACEHUB_ACCESS_TOKEN\")\n",
    ")\n",
    "\n",
    "model = ChatHuggingFace(llm=llm)\n",
    "\n",
    "schema = [\n",
    "    ResponseSchema(name=\"fact_1\", description=\"Fact 1 about the topic\"),\n",
    "    ResponseSchema(name=\"fact_1\", description=\"Fact 2 about the topic\"),\n",
    "    ResponseSchema(name=\"fact_1\", description=\"Fact 3 about the topic\"),\n",
    "]\n",
    "\n",
    "parser = StructuredOutputParser.from_response_schemas(schema)\n",
    "\n",
    "template = PromptTemplate(\n",
    "    template= \"give 3 facts about the {topic} \\n {format_instruction}\",\n",
    "    input_variables=[\"topic\"],\n",
    "    partial_variables={'format_instruction': parser.get_format_instructions()}\n",
    ")\n",
    "\n",
    "# by using chains\n",
    "\n",
    "chain = template | model | parser\n",
    "\n",
    "result = chain.invoke({\"topic\" : \"black hole\"})\n",
    "\n",
    "print(result)"
   ]
  },
  {
   "cell_type": "code",
   "execution_count": null,
   "id": "216e0140",
   "metadata": {},
   "outputs": [],
   "source": [
    "# disadvantages of StructuredOutputParser is that it does not support the data validation"
   ]
  }
 ],
 "metadata": {
  "kernelspec": {
   "display_name": "myenv",
   "language": "python",
   "name": "python3"
  },
  "language_info": {
   "codemirror_mode": {
    "name": "ipython",
    "version": 3
   },
   "file_extension": ".py",
   "mimetype": "text/x-python",
   "name": "python",
   "nbconvert_exporter": "python",
   "pygments_lexer": "ipython3",
   "version": "3.11.4"
  }
 },
 "nbformat": 4,
 "nbformat_minor": 5
}
