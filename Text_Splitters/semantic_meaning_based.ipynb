{
 "cells": [
  {
   "cell_type": "code",
   "execution_count": null,
   "id": "c99fc1ca",
   "metadata": {},
   "outputs": [
    {
     "name": "stdout",
     "output_type": "stream",
     "text": [
      "3\n"
     ]
    }
   ],
   "source": [
    "from langchain_experimental.text_splitter import SemanticChunker\n",
    "from langchain_huggingface import HuggingFaceEmbeddings\n",
    "from dotenv import load_dotenv\n",
    "\n",
    "load_dotenv()\n",
    "\n",
    "sample = \"\"\"\n",
    "Farmers were working hard in the fields, preparing the soil and planting seeds for the\n",
    "next season. The sun was bright, and the air smelled of earth and fresh grass.The Indian\n",
    "Premier League (IPL) is the biggest cricket league in the world. People all over the world\n",
    "watch the matches and cheer for their favourite teams.\n",
    "\n",
    "Terrorism is a big danger to peace and safety. It causes harm to people and creates fear in\n",
    "cities and villages.When such attacks happen, they leave behind pain and sadness. To fight\n",
    "terrorism, we need strong laws, alert security forces, and support from people who care about\n",
    "peace and safety.\n",
    "\"\"\"\n",
    "\n",
    "text_splitter = SemanticChunker(\n",
    "    HuggingFaceEmbeddings(),\n",
    "    breakpoint_threshold_type = \"standard_deviation\",\n",
    "    breakpoint_threshold_amount=1\n",
    ")\n",
    "\n",
    "docs = text_splitter.create_documents([sample])\n",
    "\n",
    "print(docs)\n",
    "\n",
    "print(len(docs))"
   ]
  },
  {
   "cell_type": "code",
   "execution_count": 16,
   "id": "2ebc414c",
   "metadata": {},
   "outputs": [
    {
     "name": "stdout",
     "output_type": "stream",
     "text": [
      "\n",
      "Farmers were working hard in the fields, preparing the soil and planting seeds for the\n",
      "next season. The sun was bright, and the air smelled of earth and fresh grass.The Indian\n",
      "Premier League (IPL) is the biggest cricket league in the world. People all over the world\n",
      "watch the matches and cheer for their favourite teams.\n"
     ]
    }
   ],
   "source": [
    "print(docs[0].page_content)"
   ]
  },
  {
   "cell_type": "code",
   "execution_count": 17,
   "id": "20449ff9",
   "metadata": {},
   "outputs": [
    {
     "name": "stdout",
     "output_type": "stream",
     "text": [
      "Terrorism is a big danger to peace and safety. It causes harm to people and creates fear in\n",
      "cities and villages.When such attacks happen, they leave behind pain and sadness. To fight\n",
      "terrorism, we need strong laws, alert security forces, and support from people who care about\n",
      "peace and safety.\n"
     ]
    }
   ],
   "source": [
    "print(docs[1].page_content)"
   ]
  },
  {
   "cell_type": "code",
   "execution_count": null,
   "id": "cefede77",
   "metadata": {},
   "outputs": [],
   "source": []
  },
  {
   "cell_type": "code",
   "execution_count": null,
   "id": "49153811",
   "metadata": {},
   "outputs": [],
   "source": []
  }
 ],
 "metadata": {
  "kernelspec": {
   "display_name": "myenv",
   "language": "python",
   "name": "python3"
  },
  "language_info": {
   "codemirror_mode": {
    "name": "ipython",
    "version": 3
   },
   "file_extension": ".py",
   "mimetype": "text/x-python",
   "name": "python",
   "nbconvert_exporter": "python",
   "pygments_lexer": "ipython3",
   "version": "3.11.4"
  }
 },
 "nbformat": 4,
 "nbformat_minor": 5
}
