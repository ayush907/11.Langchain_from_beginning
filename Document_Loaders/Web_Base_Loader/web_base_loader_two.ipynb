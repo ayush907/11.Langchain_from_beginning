{
 "cells": [
  {
   "cell_type": "code",
   "execution_count": 1,
   "id": "e9d581f8",
   "metadata": {},
   "outputs": [
    {
     "name": "stderr",
     "output_type": "stream",
     "text": [
      "USER_AGENT environment variable not set, consider setting it to identify your requests.\n",
      "c:\\Users\\dheka\\OneDrive\\Desktop\\11.Langchain_from_beginning\\myenv\\Lib\\site-packages\\tqdm\\auto.py:21: TqdmWarning: IProgress not found. Please update jupyter and ipywidgets. See https://ipywidgets.readthedocs.io/en/stable/user_install.html\n",
      "  from .autonotebook import tqdm as notebook_tqdm\n"
     ]
    },
    {
     "name": "stdout",
     "output_type": "stream",
     "text": [
      " The color of the product is Midnight Black.\n"
     ]
    }
   ],
   "source": [
    "from langchain_community.document_loaders import WebBaseLoader\n",
    "from langchain_huggingface import ChatHuggingFace, HuggingFaceEndpoint\n",
    "from langchain_core.prompts import PromptTemplate\n",
    "from langchain_core.output_parsers import StrOutputParser\n",
    "from dotenv import load_dotenv\n",
    "import os\n",
    "\n",
    "load_dotenv()\n",
    "\n",
    "model = ChatHuggingFace(\n",
    "    llm = HuggingFaceEndpoint(\n",
    "        repo_id=\"mistralai/Mixtral-8x7B-Instruct-v0.1\",\n",
    "        task=\"text-generation\",\n",
    "        huggingfacehub_api_token=os.getenv(\"HUGGINGFACEHUB_ACCESS_TOKEN\")\n",
    "    )\n",
    ")\n",
    "\n",
    "parser = StrOutputParser()\n",
    "\n",
    "url = \"https://www.flipkart.com/redmi-a3x-midnight-black-128-gb/p/itmae02f9f3f765a?pid=MOBH22XZZBQHFVS2&lid=LSTMOBH22XZZBQHFVS2ZJBVLP&marketplace=FLIPKART&q=mobile&store=tyy%2F4io&srno=s_1_2&otracker=search&otracker1=search&fm=organic&iid=d32e1310-1fac-4b39-9b4d-3a734f3d504a.MOBH22XZZBQHFVS2.SEARCH&ppt=hp&ppn=homepage&ssid=tq9c5k7idc0000001744526792703&qH=532c28d5412dd75b\"\n",
    "\n",
    "loader = WebBaseLoader(url)\n",
    "\n",
    "docs = loader.load()\n",
    "\n",
    "\n",
    "prompt = PromptTemplate(\n",
    "    template = \"answer the following \\n {question} according to the following \\n {text}\",\n",
    "    input_variables=[\"question\", \"text\"]\n",
    ")\n",
    "\n",
    "chain = prompt | model | parser\n",
    "\n",
    "result = chain.invoke({\n",
    "    \"question\": \"What is the color of the product?\",\n",
    "    \"text\": docs[0].page_content\n",
    "})\n",
    "\n",
    "print(result)\n"
   ]
  },
  {
   "cell_type": "code",
   "execution_count": 4,
   "id": "cc2e2ad8",
   "metadata": {},
   "outputs": [
    {
     "name": "stdout",
     "output_type": "stream",
     "text": [
      " * 128 GB storage\n",
      "* 4 GB RAM\n",
      "* 17.04 cm (6.71 inch) HD+ display\n",
      "* 8MP rear camera with AI dual camera and 5MP front camera\n",
      "* 5000 mAh battery with Type-C charger\n",
      "* Premium Halo design with thin 8.3mm flat frame\n",
      "* Smooth 90 Hz refresh rate\n",
      "* Protected by Corning Gorilla Glass\n",
      "* Secure side fingerprint and face unlock\n",
      "* Up to 128 GB storage expandable up to 1 TB\n",
      "* Film camera filters with 8 MP AI dual camera\n",
      "* Operating system: Android 14\n",
      "* Processor: Unisoc Octa Core with primary clock speed of 1.8 GHz\n",
      "* 4 GB virtual RAM\n",
      "* Connectivity features: 4G VoLTE, 4G LTE, WCDMA, GSM, 3G, 2G\n",
      "* Sensors: side fingerprint sensor, accelerometer, electronic compass\n",
      "* Dimensions: 76.3 mm (width) x 168.4 mm (height) x 8.3 mm (depth)\n",
      "* Weight: 199 g\n",
      "* 1 Year Manufacturer Warranty for Phone and 6 Months Warranty for In the Box Accessories.\n"
     ]
    }
   ],
   "source": [
    "result = chain.invoke({\n",
    "    \"question\": \"what are the important features of this product write in points\",\n",
    "    \"text\": docs[0].page_content\n",
    "})\n",
    "\n",
    "print(result)"
   ]
  },
  {
   "cell_type": "code",
   "execution_count": null,
   "id": "bcf6a709",
   "metadata": {},
   "outputs": [],
   "source": []
  }
 ],
 "metadata": {
  "kernelspec": {
   "display_name": "myenv",
   "language": "python",
   "name": "python3"
  },
  "language_info": {
   "codemirror_mode": {
    "name": "ipython",
    "version": 3
   },
   "file_extension": ".py",
   "mimetype": "text/x-python",
   "name": "python",
   "nbconvert_exporter": "python",
   "pygments_lexer": "ipython3",
   "version": "3.11.4"
  }
 },
 "nbformat": 4,
 "nbformat_minor": 5
}
