{
 "cells": [
  {
   "cell_type": "code",
   "execution_count": 2,
   "id": "8f0e2b44",
   "metadata": {},
   "outputs": [],
   "source": [
    "from langchain_community.vectorstores import Chroma\n",
    "from langchain_huggingface import HuggingFaceEmbeddings\n",
    "from langchain_core.documents import Document"
   ]
  },
  {
   "cell_type": "code",
   "execution_count": 3,
   "id": "81ecd7ce",
   "metadata": {},
   "outputs": [],
   "source": [
    "# step 1 : your source documents \n",
    "docs = [\n",
    "    Document(page_content=\"Langchain help developers to build LLM applications easily\"),\n",
    "    Document(page_content=\"Chroma is an vetor database optimized for LLM based search\"),\n",
    "    Document(page_content=\"Embeddings convert text into the high dimensional vectors\"),\n",
    "    Document(page_content=\"OpenAI provides powerful embedding models\"),\n",
    "]"
   ]
  },
  {
   "cell_type": "code",
   "execution_count": 4,
   "id": "e7313054",
   "metadata": {},
   "outputs": [
    {
     "name": "stderr",
     "output_type": "stream",
     "text": [
      "c:\\Users\\dheka\\OneDrive\\Desktop\\11.Langchain_from_beginning\\myenv\\Lib\\site-packages\\tqdm\\auto.py:21: TqdmWarning: IProgress not found. Please update jupyter and ipywidgets. See https://ipywidgets.readthedocs.io/en/stable/user_install.html\n",
      "  from .autonotebook import tqdm as notebook_tqdm\n"
     ]
    }
   ],
   "source": [
    "# step 2 : initialize the embedding model\n",
    "embedding_model = HuggingFaceEmbeddings()\n",
    "\n",
    "# step 3 : create Chroma vector store in memory\n",
    "vector_store = Chroma.from_documents(\n",
    "    documents=docs,\n",
    "    embedding=embedding_model,\n",
    "    collection_name=\"my_collection\"\n",
    ")"
   ]
  },
  {
   "cell_type": "code",
   "execution_count": 5,
   "id": "e64d0729",
   "metadata": {},
   "outputs": [],
   "source": [
    "# step 4 : convert vector store into a retriever\n",
    "retriver = vector_store.as_retriever(search_kwargs={\"k\" : 2})"
   ]
  },
  {
   "cell_type": "code",
   "execution_count": 6,
   "id": "81dc78a2",
   "metadata": {},
   "outputs": [],
   "source": [
    "query = \"what is chroma used for?\"\n",
    "\n",
    "results = retriver.invoke(query)"
   ]
  },
  {
   "cell_type": "code",
   "execution_count": 8,
   "id": "085d24ba",
   "metadata": {},
   "outputs": [
    {
     "name": "stdout",
     "output_type": "stream",
     "text": [
      "\n",
      "----Result 1 -----\n",
      "Content \n",
      " Chroma is an vetor database optimized for LLM based search...\n",
      "\n",
      "----Result 2 -----\n",
      "Content \n",
      " Langchain help developers to build LLM applications easily...\n"
     ]
    }
   ],
   "source": [
    "for i, doc in enumerate(results):\n",
    "    print(f\"\\n----Result {i+1} -----\")\n",
    "    print(f\"Content \\n {doc.page_content}...\")"
   ]
  },
  {
   "cell_type": "code",
   "execution_count": null,
   "id": "6ef8a176",
   "metadata": {},
   "outputs": [],
   "source": []
  }
 ],
 "metadata": {
  "kernelspec": {
   "display_name": "myenv",
   "language": "python",
   "name": "python3"
  },
  "language_info": {
   "codemirror_mode": {
    "name": "ipython",
    "version": 3
   },
   "file_extension": ".py",
   "mimetype": "text/x-python",
   "name": "python",
   "nbconvert_exporter": "python",
   "pygments_lexer": "ipython3",
   "version": "3.11.4"
  }
 },
 "nbformat": 4,
 "nbformat_minor": 5
}
