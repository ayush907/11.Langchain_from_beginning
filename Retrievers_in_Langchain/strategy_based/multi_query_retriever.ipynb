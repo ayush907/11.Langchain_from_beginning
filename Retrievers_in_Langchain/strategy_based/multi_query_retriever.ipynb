{
 "cells": [
  {
   "cell_type": "markdown",
   "id": "3c91df26",
   "metadata": {},
   "source": [
    "multi query retriver tries to solve the ambiguity in the user's query by generating the multiple queries out of it"
   ]
  },
  {
   "cell_type": "code",
   "execution_count": 1,
   "id": "f7002e70",
   "metadata": {},
   "outputs": [
    {
     "data": {
      "text/plain": [
       "True"
      ]
     },
     "execution_count": 1,
     "metadata": {},
     "output_type": "execute_result"
    }
   ],
   "source": [
    "from langchain_community.vectorstores import FAISS\n",
    "from langchain_huggingface import HuggingFaceEmbeddings\n",
    "from langchain_core.documents import Document\n",
    "from langchain_huggingface import ChatHuggingFace, HuggingFaceEndpoint, HuggingFaceEmbeddings\n",
    "from langchain.retrievers.multi_query import MultiQueryRetriever\n",
    "from dotenv import load_dotenv\n",
    "import os\n",
    "\n",
    "load_dotenv()\n"
   ]
  },
  {
   "cell_type": "code",
   "execution_count": 2,
   "id": "e6ade10f",
   "metadata": {},
   "outputs": [],
   "source": [
    "all_docs = [\n",
    "    Document(page_content=\"Regular walking boosts heart health and can reduce symptoms of depression.\", metadata={\"source\": \"H1\"}),\n",
    "    Document(page_content=\"Consuming leafy greens and fruits helps detox the body and improve longevity.\", metadata={\"source\": \"H2\"}),\n",
    "    Document(page_content=\"Deep sleep is crucial for cellular repair and emotional regulation.\", metadata={\"source\": \"H3\"}),\n",
    "    Document(page_content=\"Mindfulness and controlled breathing lower cortisol and improve mental clarity.\", metadata={\"source\": \"H4\"}),\n",
    "    Document(page_content=\"Drinking sufficient water throughout the day helps maintain metabolism and energy.\", metadata={\"source\": \"H5\"}),\n",
    "    Document(page_content=\"The solar energy system in modern homes helps balance electricity demand.\", metadata={\"source\": \"I1\"}),\n",
    "    Document(page_content=\"Python balances readability with power, making it a popular system design language.\", metadata={\"source\": \"I2\"}),\n",
    "    Document(page_content=\"Photosynthesis enables plants to produce energy by converting sunlight.\", metadata={\"source\": \"I3\"}),\n",
    "    Document(page_content=\"The 2022 FIFA World Cup was held in Qatar and drew global energy and excitement.\", metadata={\"source\": \"I4\"}),\n",
    "    Document(page_content=\"Black holes bend spacetime and store immense gravitational energy.\", metadata={\"source\": \"I5\"}),\n",
    "]"
   ]
  },
  {
   "cell_type": "code",
   "execution_count": 3,
   "id": "26cddc09",
   "metadata": {},
   "outputs": [
    {
     "name": "stderr",
     "output_type": "stream",
     "text": [
      "c:\\Users\\dheka\\OneDrive\\Desktop\\11.Langchain_from_beginning\\myenv\\Lib\\site-packages\\tqdm\\auto.py:21: TqdmWarning: IProgress not found. Please update jupyter and ipywidgets. See https://ipywidgets.readthedocs.io/en/stable/user_install.html\n",
      "  from .autonotebook import tqdm as notebook_tqdm\n"
     ]
    }
   ],
   "source": [
    "# initialize the embeddings\n",
    "embedding_model = HuggingFaceEmbeddings()\n",
    "\n",
    "# create FAISS vector store\n",
    "vectorstore = FAISS.from_documents(documents=all_docs, embedding=embedding_model)"
   ]
  },
  {
   "cell_type": "code",
   "execution_count": 4,
   "id": "f6d95992",
   "metadata": {},
   "outputs": [],
   "source": [
    "# create retrievers\n",
    "similarity_retriever = vectorstore.as_retriever(\n",
    "    search_type = \"similarity\",\n",
    "    search_kwargs = {\"k\" : 5}\n",
    ")"
   ]
  },
  {
   "cell_type": "code",
   "execution_count": 8,
   "id": "8cb57ed4",
   "metadata": {},
   "outputs": [],
   "source": [
    "multiquery_retriever = MultiQueryRetriever.from_llm(\n",
    "    retriever=vectorstore.as_retriever(search_kwargs={\"k\" : 5}),\n",
    "    llm = ChatHuggingFace(\n",
    "        llm = HuggingFaceEndpoint(\n",
    "            repo_id=\"mistralai/Mixtral-8x7B-Instruct-v0.1\",\n",
    "            task=\"text-generation\",\n",
    "            huggingfacehub_api_token=os.getenv(\"HUGGINGFACEHUB_ACCESS_TOKEN\")\n",
    "        )\n",
    "    )\n",
    ")"
   ]
  },
  {
   "cell_type": "code",
   "execution_count": 9,
   "id": "9a9990be",
   "metadata": {},
   "outputs": [],
   "source": [
    "# Query\n",
    "query = \"how to maintain energy levels and maintain balance?\""
   ]
  },
  {
   "cell_type": "code",
   "execution_count": 10,
   "id": "b8762d39",
   "metadata": {},
   "outputs": [],
   "source": [
    "# Retrieve results\n",
    "similarity_results = similarity_retriever.invoke(query)\n",
    "multiquery_results = multiquery_retriever.invoke(query)"
   ]
  },
  {
   "cell_type": "code",
   "execution_count": 11,
   "id": "7482609f",
   "metadata": {},
   "outputs": [
    {
     "name": "stdout",
     "output_type": "stream",
     "text": [
      "\n",
      "----Result 1 -----\n",
      "Drinking sufficient water throughout the day helps maintain metabolism and energy.\n",
      "\n",
      "----Result 2 -----\n",
      "Mindfulness and controlled breathing lower cortisol and improve mental clarity.\n",
      "\n",
      "----Result 3 -----\n",
      "Regular walking boosts heart health and can reduce symptoms of depression.\n",
      "\n",
      "----Result 4 -----\n",
      "Consuming leafy greens and fruits helps detox the body and improve longevity.\n",
      "\n",
      "----Result 5 -----\n",
      "The solar energy system in modern homes helps balance electricity demand.\n",
      "\n",
      "\n",
      "**************************************************\n",
      "\n",
      "\n",
      "\n",
      "----Result 1 -----\n",
      "Drinking sufficient water throughout the day helps maintain metabolism and energy.\n",
      "\n",
      "----Result 2 -----\n",
      "Mindfulness and controlled breathing lower cortisol and improve mental clarity.\n",
      "\n",
      "----Result 3 -----\n",
      "Consuming leafy greens and fruits helps detox the body and improve longevity.\n",
      "\n",
      "----Result 4 -----\n",
      "Regular walking boosts heart health and can reduce symptoms of depression.\n",
      "\n",
      "----Result 5 -----\n",
      "Deep sleep is crucial for cellular repair and emotional regulation.\n",
      "\n",
      "----Result 6 -----\n",
      "The solar energy system in modern homes helps balance electricity demand.\n"
     ]
    }
   ],
   "source": [
    "for i, doc in enumerate(similarity_results):\n",
    "    print(f\"\\n----Result {i+1} -----\")\n",
    "    print(doc.page_content)\n",
    "\n",
    "print(\"\\n\")\n",
    "print(\"*\" * 50)\n",
    "print(\"\\n\")\n",
    "\n",
    "for i, doc in enumerate(multiquery_results):\n",
    "    print(f\"\\n----Result {i+1} -----\")\n",
    "    print(doc.page_content)"
   ]
  },
  {
   "cell_type": "markdown",
   "id": "7f66d00a",
   "metadata": {},
   "source": []
  }
 ],
 "metadata": {
  "kernelspec": {
   "display_name": "myenv",
   "language": "python",
   "name": "python3"
  },
  "language_info": {
   "codemirror_mode": {
    "name": "ipython",
    "version": 3
   },
   "file_extension": ".py",
   "mimetype": "text/x-python",
   "name": "python",
   "nbconvert_exporter": "python",
   "pygments_lexer": "ipython3",
   "version": "3.11.4"
  }
 },
 "nbformat": 4,
 "nbformat_minor": 5
}
