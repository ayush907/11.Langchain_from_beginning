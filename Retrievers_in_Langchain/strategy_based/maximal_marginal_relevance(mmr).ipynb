{
 "cells": [
  {
   "cell_type": "markdown",
   "id": "56ac8ea8",
   "metadata": {},
   "source": [
    "MMR is an information retrieval algorithm designed to reduce redundancy in the retrieved results while maintaining high relevance to the query"
   ]
  },
  {
   "cell_type": "code",
   "execution_count": 7,
   "id": "3ee1fe1d",
   "metadata": {},
   "outputs": [],
   "source": [
    "from langchain_core.documents import Document\n",
    "from langchain_huggingface import HuggingFaceEmbeddings"
   ]
  },
  {
   "cell_type": "code",
   "execution_count": 8,
   "id": "f6309e21",
   "metadata": {},
   "outputs": [],
   "source": [
    "# Sample documents\n",
    "docs = [\n",
    "    Document(page_content=\"Langchain makes it easy to work with LLM\"),\n",
    "    Document(page_content=\"Langchain is used to build LLM based Applications\"),\n",
    "    Document(page_content=\"Chroma is used to store and search document embeddings\"),\n",
    "    Document(page_content=\"embeddings are the vector representations of the text\"),\n",
    "    Document(page_content=\"MMR helps you get diverse results when doing similarity search\"),\n",
    "    Document(page_content=\"Langchain Supports Chroma, FAISS, Pinecone and more\")\n",
    "]"
   ]
  },
  {
   "cell_type": "code",
   "execution_count": 9,
   "id": "02c6eb96",
   "metadata": {},
   "outputs": [],
   "source": [
    "from langchain_community.vectorstores import FAISS\n",
    "\n",
    "# step 1 : initialize the embeddings\n",
    "embedding_model = HuggingFaceEmbeddings()\n",
    "\n",
    "# step 2 : create the FAISS vector store from documents\n",
    "vector_store = FAISS.from_documents(\n",
    "    embedding=embedding_model,\n",
    "    documents=docs\n",
    ")"
   ]
  },
  {
   "cell_type": "code",
   "execution_count": 10,
   "id": "2309bc63",
   "metadata": {},
   "outputs": [],
   "source": [
    "# step 3 : enable the MMR in the retriever\n",
    "\n",
    "retriever = vector_store.as_retriever(\n",
    "    search_type = \"mmr\",  # this enables mmr\n",
    "    search_kwargs = {\"k\" : 3, \"lambda_mult\" : 0.5}  # K = top results, lambda_mult = relevance-diversity-balance\n",
    ")"
   ]
  },
  {
   "cell_type": "code",
   "execution_count": 11,
   "id": "baae0cb6",
   "metadata": {},
   "outputs": [],
   "source": [
    "query = \"what is langchain?\"\n",
    "\n",
    "results = retriever.invoke(query)"
   ]
  },
  {
   "cell_type": "code",
   "execution_count": 12,
   "id": "c29f302e",
   "metadata": {},
   "outputs": [
    {
     "name": "stdout",
     "output_type": "stream",
     "text": [
      "\n",
      "----Result 1 -----\n",
      "Content \n",
      " Langchain is used to build LLM based Applications...\n",
      "\n",
      "----Result 2 -----\n",
      "Content \n",
      " embeddings are the vector representations of the text...\n",
      "\n",
      "----Result 3 -----\n",
      "Content \n",
      " Langchain Supports Chroma, FAISS, Pinecone and more...\n"
     ]
    }
   ],
   "source": [
    "for i, doc in enumerate(results):\n",
    "    print(f\"\\n----Result {i+1} -----\")\n",
    "    print(f\"Content \\n {doc.page_content}...\")"
   ]
  },
  {
   "cell_type": "code",
   "execution_count": null,
   "id": "a3b656d8",
   "metadata": {},
   "outputs": [],
   "source": []
  }
 ],
 "metadata": {
  "kernelspec": {
   "display_name": "myenv",
   "language": "python",
   "name": "python3"
  },
  "language_info": {
   "codemirror_mode": {
    "name": "ipython",
    "version": 3
   },
   "file_extension": ".py",
   "mimetype": "text/x-python",
   "name": "python",
   "nbconvert_exporter": "python",
   "pygments_lexer": "ipython3",
   "version": "3.11.4"
  }
 },
 "nbformat": 4,
 "nbformat_minor": 5
}
