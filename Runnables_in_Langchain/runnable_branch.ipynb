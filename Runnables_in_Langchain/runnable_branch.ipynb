{
 "cells": [
  {
   "cell_type": "code",
   "execution_count": 1,
   "id": "a9304333",
   "metadata": {},
   "outputs": [
    {
     "name": "stderr",
     "output_type": "stream",
     "text": [
      "c:\\Users\\dheka\\OneDrive\\Desktop\\11.Langchain_from_beginning\\myenv\\Lib\\site-packages\\tqdm\\auto.py:21: TqdmWarning: IProgress not found. Please update jupyter and ipywidgets. See https://ipywidgets.readthedocs.io/en/stable/user_install.html\n",
      "  from .autonotebook import tqdm as notebook_tqdm\n"
     ]
    },
    {
     "name": "stdout",
     "output_type": "stream",
     "text": [
      " Light has a dual nature, exhibiting both wave and particle properties. The wave nature of light was demonstrated through experiments like Young's double-slit experiment, diffraction, and polarization, describing light as a transverse electromagnetic wave. The particle nature, or photon theory, was proposed by Einstein to explain the photoelectric effect and Compton scattering, where light behaves as discrete packets of energy. Quantum mechanics reconciles this duality through the wave function, providing a probabilistic description of light's behavior. Light exhibits wave-particle duality, and its properties cannot be precisely determined simultaneously due to the uncertainty principle. This dual nature highlights the limitations of classical physics and the necessity of quantum mechanics for a comprehensive understanding of light and other quantum systems.\n"
     ]
    }
   ],
   "source": [
    "from langchain_huggingface import ChatHuggingFace, HuggingFaceEndpoint\n",
    "from langchain_core.prompts import PromptTemplate\n",
    "from langchain.schema.runnable import RunnableSequence, RunnableParallel, RunnablePassthrough, RunnableLambda, RunnableBranch\n",
    "from langchain_core.output_parsers import StrOutputParser\n",
    "from dotenv import load_dotenv\n",
    "import os\n",
    "\n",
    "load_dotenv()\n",
    "\n",
    "llm = HuggingFaceEndpoint(\n",
    "    repo_id = \"mistralai/Mixtral-8x7B-Instruct-v0.1\",\n",
    "    task = \"text-generation\",\n",
    "    huggingfacehub_api_token=os.getenv(\"HUGINGFACEHUB_API_TOKEN\")\n",
    ")\n",
    "\n",
    "model = ChatHuggingFace(llm = llm)\n",
    "\n",
    "parser = StrOutputParser()\n",
    "\n",
    "prompt1 = PromptTemplate(\n",
    "    template= \"write a detailed report on {topic}\",\n",
    "    input_keys=[\"topic\"]\n",
    ")\n",
    "\n",
    "prompt2 = PromptTemplate(\n",
    "    template= \"summarize the following text \\n {text}\",\n",
    "    input_keys=[\"topic\"]\n",
    ")\n",
    "\n",
    "report_gen_seq_chain = RunnableSequence(prompt1, model, parser)\n",
    "\n",
    "branched_chain = RunnableBranch(\n",
    "    (lambda x : len(x.split(\" \")) > 500, RunnableSequence(prompt2, model, parser)),\n",
    "    RunnablePassthrough()\n",
    ")\n",
    "\n",
    "final_chain = RunnableSequence(report_gen_seq_chain, branched_chain)\n",
    "\n",
    "result = final_chain.invoke({\"topic\" : \"dual nature of light\"})\n",
    "\n",
    "print(result)"
   ]
  },
  {
   "cell_type": "code",
   "execution_count": 7,
   "id": "333c9bdc",
   "metadata": {},
   "outputs": [
    {
     "name": "stdout",
     "output_type": "stream",
     "text": [
      "  +-------------+    \n",
      "  | PromptInput |    \n",
      "  +-------------+    \n",
      "          *          \n",
      "          *          \n",
      "          *          \n",
      "+----------------+   \n",
      "| PromptTemplate |   \n",
      "+----------------+   \n",
      "          *          \n",
      "          *          \n",
      "          *          \n",
      "+-----------------+  \n",
      "| ChatHuggingFace |  \n",
      "+-----------------+  \n",
      "          *          \n",
      "          *          \n",
      "          *          \n",
      "+-----------------+  \n",
      "| StrOutputParser |  \n",
      "+-----------------+  \n",
      "          *          \n",
      "          *          \n",
      "          *          \n",
      "    +--------+       \n",
      "    | Branch |       \n",
      "    +--------+       \n",
      "          *          \n",
      "          *          \n",
      "          *          \n",
      "  +--------------+   \n",
      "  | BranchOutput |   \n",
      "  +--------------+   \n"
     ]
    }
   ],
   "source": [
    "final_chain.get_graph().print_ascii()"
   ]
  },
  {
   "cell_type": "code",
   "execution_count": null,
   "id": "9309f560",
   "metadata": {},
   "outputs": [],
   "source": []
  },
  {
   "cell_type": "code",
   "execution_count": null,
   "id": "e82aa825",
   "metadata": {},
   "outputs": [],
   "source": []
  }
 ],
 "metadata": {
  "kernelspec": {
   "display_name": "myenv",
   "language": "python",
   "name": "python3"
  },
  "language_info": {
   "codemirror_mode": {
    "name": "ipython",
    "version": 3
   },
   "file_extension": ".py",
   "mimetype": "text/x-python",
   "name": "python",
   "nbconvert_exporter": "python",
   "pygments_lexer": "ipython3",
   "version": "3.11.4"
  }
 },
 "nbformat": 4,
 "nbformat_minor": 5
}
