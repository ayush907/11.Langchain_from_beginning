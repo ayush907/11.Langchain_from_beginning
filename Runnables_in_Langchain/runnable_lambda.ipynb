{
 "cells": [
  {
   "cell_type": "code",
   "execution_count": 3,
   "id": "2279f180",
   "metadata": {},
   "outputs": [
    {
     "name": "stdout",
     "output_type": "stream",
     "text": [
      "5\n"
     ]
    }
   ],
   "source": [
    "from langchain.schema.runnable import RunnableLambda\n",
    "\n",
    "def word_counter(text):\n",
    "    return len(text.split(\" \"))\n",
    "\n",
    "\n",
    "runnable_word_counter = RunnableLambda(word_counter)\n",
    "\n",
    "result = runnable_word_counter.invoke(\"hey what is your name\")\n",
    "\n",
    "print(result)"
   ]
  },
  {
   "cell_type": "code",
   "execution_count": 6,
   "id": "b6c9a262",
   "metadata": {},
   "outputs": [
    {
     "name": "stdout",
     "output_type": "stream",
     "text": [
      "\n",
      "Joke:  Why don't crickets watch movies? Because they prefer to stick to their own \"series\" - a cricket \"series\" is when a group of crickets take turns telling jokes and stories all night long! Just imagine the amount of \"cricket critiques\" they have after each performance! Sorry for the bad puns, I just couldn't resist!\n",
      "Word Count: 55\n",
      "\n"
     ]
    }
   ],
   "source": [
    "from langchain_huggingface import ChatHuggingFace, HuggingFaceEndpoint\n",
    "from langchain_core.prompts import PromptTemplate\n",
    "from langchain.schema.runnable import RunnableSequence, RunnableParallel, RunnablePassthrough, RunnableLambda\n",
    "from langchain_core.output_parsers import StrOutputParser\n",
    "from dotenv import load_dotenv\n",
    "import os\n",
    "\n",
    "load_dotenv()\n",
    "\n",
    "llm = HuggingFaceEndpoint(\n",
    "    repo_id = \"mistralai/Mixtral-8x7B-Instruct-v0.1\",\n",
    "    task = \"text-generation\",\n",
    "    huggingfacehub_api_token=os.getenv(\"HUGINGFACEHUB_API_TOKEN\")\n",
    ")\n",
    "\n",
    "model = ChatHuggingFace(llm = llm)\n",
    "\n",
    "parser = StrOutputParser()\n",
    "\n",
    "prompt = PromptTemplate(\n",
    "    template= \"write a joke about the {topic}\",\n",
    "    input_keys=[\"topic\"]\n",
    ")\n",
    "\n",
    "joke_gen_seq_chain = RunnableSequence(prompt, model, parser)\n",
    "\n",
    "# parallel_chain = RunnableParallel({\n",
    "#     \"joke\" : RunnablePassthrough(),\n",
    "#     \"word_count\" : RunnableLambda(word_counter)\n",
    "# })\n",
    "\n",
    "parallel_chain = RunnableParallel({\n",
    "    \"joke\" : RunnablePassthrough(),\n",
    "    \"word_count\" : RunnableLambda(lambda x : len(x.split(\" \")))\n",
    "})\n",
    "\n",
    "final_chain = RunnableSequence(joke_gen_seq_chain, parallel_chain)\n",
    "\n",
    "result = final_chain.invoke({\"topic\" : \"cricket\"})\n",
    "\n",
    "final_result = f\"\"\"\n",
    "Joke: {result[\"joke\"]}\n",
    "Word Count: {result[\"word_count\"]}\n",
    "\"\"\"\n",
    "\n",
    "print(final_result)\n"
   ]
  },
  {
   "cell_type": "code",
   "execution_count": 8,
   "id": "c3585c5e",
   "metadata": {},
   "outputs": [
    {
     "name": "stdout",
     "output_type": "stream",
     "text": [
      "           +-------------+            \n",
      "           | PromptInput |            \n",
      "           +-------------+            \n",
      "                   *                  \n",
      "                   *                  \n",
      "                   *                  \n",
      "          +----------------+          \n",
      "          | PromptTemplate |          \n",
      "          +----------------+          \n",
      "                   *                  \n",
      "                   *                  \n",
      "                   *                  \n",
      "         +-----------------+          \n",
      "         | ChatHuggingFace |          \n",
      "         +-----------------+          \n",
      "                   *                  \n",
      "                   *                  \n",
      "                   *                  \n",
      "         +-----------------+          \n",
      "         | StrOutputParser |          \n",
      "         +-----------------+          \n",
      "                   *                  \n",
      "                   *                  \n",
      "                   *                  \n",
      "  +--------------------------------+  \n",
      "  | Parallel<joke,word_count>Input |  \n",
      "  +--------------------------------+  \n",
      "            ***         **            \n",
      "           *              **          \n",
      "         **                 *         \n",
      "+-------------+          +--------+   \n",
      "| Passthrough |          | Lambda |   \n",
      "+-------------+          +--------+   \n",
      "            ***         **            \n",
      "               *      **              \n",
      "                **   *                \n",
      " +---------------------------------+  \n",
      " | Parallel<joke,word_count>Output |  \n",
      " +---------------------------------+  \n"
     ]
    }
   ],
   "source": [
    "final_chain.get_graph().print_ascii()"
   ]
  },
  {
   "cell_type": "code",
   "execution_count": null,
   "id": "36abb2af",
   "metadata": {},
   "outputs": [],
   "source": []
  }
 ],
 "metadata": {
  "kernelspec": {
   "display_name": "myenv",
   "language": "python",
   "name": "python3"
  },
  "language_info": {
   "codemirror_mode": {
    "name": "ipython",
    "version": 3
   },
   "file_extension": ".py",
   "mimetype": "text/x-python",
   "name": "python",
   "nbconvert_exporter": "python",
   "pygments_lexer": "ipython3",
   "version": "3.11.4"
  }
 },
 "nbformat": 4,
 "nbformat_minor": 5
}
