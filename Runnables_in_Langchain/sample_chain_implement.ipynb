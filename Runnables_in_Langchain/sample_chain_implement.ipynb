{
 "cells": [
  {
   "cell_type": "code",
   "execution_count": 64,
   "id": "be780afb",
   "metadata": {},
   "outputs": [],
   "source": [
    "import random\n",
    "\n",
    "class nakliLLM: \n",
    "\n",
    "    def __init__(self):\n",
    "        print(\"llm created\")\n",
    "\n",
    "    def predict(self, prompt):\n",
    "\n",
    "        response_lst = [\n",
    "            \"I'm not sure I understand what you're asking.\",\n",
    "            \"I'm not sure I can help with that.\",\n",
    "            \"I'm not sure I can provide a helpful response.\",\n",
    "        ]\n",
    "\n",
    "        return {\"response\" : random.choice(response_lst)}\n"
   ]
  },
  {
   "cell_type": "code",
   "execution_count": 65,
   "id": "b717b9da",
   "metadata": {},
   "outputs": [
    {
     "name": "stdout",
     "output_type": "stream",
     "text": [
      "llm created\n"
     ]
    }
   ],
   "source": [
    "llm = nakliLLM()"
   ]
  },
  {
   "cell_type": "code",
   "execution_count": 66,
   "id": "a737042d",
   "metadata": {},
   "outputs": [
    {
     "data": {
      "text/plain": [
       "{'response': \"I'm not sure I understand what you're asking.\"}"
      ]
     },
     "execution_count": 66,
     "metadata": {},
     "output_type": "execute_result"
    }
   ],
   "source": [
    "llm.predict(\"what is the capital of india\")"
   ]
  },
  {
   "cell_type": "code",
   "execution_count": 67,
   "id": "8ea7b59a",
   "metadata": {},
   "outputs": [],
   "source": [
    "class nakliPromptTemplate:\n",
    "\n",
    "    def __init__(self, template, input_variables):\n",
    "        self.template = template\n",
    "        self.input_variables = input_variables\n",
    "\n",
    "    def Format(self, input_dict):\n",
    "        for var in self.input_variables:\n",
    "            if var not in input_dict:\n",
    "                raise ValueError(f\"Missing input variable: {var}\")\n",
    "            \n",
    "        for key in input_dict.keys():\n",
    "            if key not in self.input_variables:\n",
    "                raise ValueError(f\"Unknown input variable: {key}\")\n",
    "            \n",
    "        return self.template.format(**input_dict)"
   ]
  },
  {
   "cell_type": "code",
   "execution_count": 68,
   "id": "69c46934",
   "metadata": {},
   "outputs": [],
   "source": [
    "template = nakliPromptTemplate(\n",
    "    template=\"write a poem about the {topic}\", \n",
    "    input_variables=[\"topic\"]\n",
    "    )"
   ]
  },
  {
   "cell_type": "code",
   "execution_count": 69,
   "id": "eb88b2e4",
   "metadata": {},
   "outputs": [
    {
     "data": {
      "text/plain": [
       "'write a poem about the india'"
      ]
     },
     "execution_count": 69,
     "metadata": {},
     "output_type": "execute_result"
    }
   ],
   "source": [
    "template.Format({\"topic\" : \"india\"})"
   ]
  },
  {
   "cell_type": "code",
   "execution_count": 70,
   "id": "9e8f82c2",
   "metadata": {},
   "outputs": [],
   "source": [
    "class nakliLLMChain:\n",
    "\n",
    "    def __init__(self, llm, prompt):\n",
    "        self.llm = llm \n",
    "        self.prompt = prompt\n",
    "\n",
    "    def run(self, input_dict):\n",
    "        prompt = self.prompt.Format(input_dict)\n",
    "        result = self.llm.predict(prompt)\n",
    "\n",
    "        return result[\"response\"]\n",
    "        "
   ]
  },
  {
   "cell_type": "code",
   "execution_count": 71,
   "id": "756086b6",
   "metadata": {},
   "outputs": [],
   "source": [
    "template = nakliPromptTemplate(\n",
    "    template=\"write a poem about the {topic}\", \n",
    "    input_variables=[\"topic\"]\n",
    "    )"
   ]
  },
  {
   "cell_type": "code",
   "execution_count": 72,
   "id": "9839c2d9",
   "metadata": {},
   "outputs": [
    {
     "name": "stdout",
     "output_type": "stream",
     "text": [
      "llm created\n"
     ]
    }
   ],
   "source": [
    "llm = nakliLLM()"
   ]
  },
  {
   "cell_type": "code",
   "execution_count": 73,
   "id": "1d61c0c1",
   "metadata": {},
   "outputs": [],
   "source": [
    "chain = nakliLLMChain(llm=llm, prompt=template)"
   ]
  },
  {
   "cell_type": "code",
   "execution_count": 74,
   "id": "9ffe6a91",
   "metadata": {},
   "outputs": [
    {
     "data": {
      "text/plain": [
       "\"I'm not sure I can help with that.\""
      ]
     },
     "execution_count": 74,
     "metadata": {},
     "output_type": "execute_result"
    }
   ],
   "source": [
    "chain.run({\"topic\" : \"cricket\"})"
   ]
  },
  {
   "cell_type": "code",
   "execution_count": null,
   "id": "ad89e1b7",
   "metadata": {},
   "outputs": [],
   "source": []
  }
 ],
 "metadata": {
  "kernelspec": {
   "display_name": "myenv",
   "language": "python",
   "name": "python3"
  },
  "language_info": {
   "codemirror_mode": {
    "name": "ipython",
    "version": 3
   },
   "file_extension": ".py",
   "mimetype": "text/x-python",
   "name": "python",
   "nbconvert_exporter": "python",
   "pygments_lexer": "ipython3",
   "version": "3.11.4"
  }
 },
 "nbformat": 4,
 "nbformat_minor": 5
}
