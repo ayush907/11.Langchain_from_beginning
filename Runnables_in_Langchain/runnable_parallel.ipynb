{
 "cells": [
  {
   "cell_type": "code",
   "execution_count": 1,
   "id": "1e794bb1",
   "metadata": {},
   "outputs": [
    {
     "name": "stderr",
     "output_type": "stream",
     "text": [
      "c:\\Users\\dheka\\OneDrive\\Desktop\\11.Langchain_from_beginning\\myenv\\Lib\\site-packages\\tqdm\\auto.py:21: TqdmWarning: IProgress not found. Please update jupyter and ipywidgets. See https://ipywidgets.readthedocs.io/en/stable/user_install.html\n",
      "  from .autonotebook import tqdm as notebook_tqdm\n"
     ]
    },
    {
     "name": "stdout",
     "output_type": "stream",
     "text": [
      "{'tweet': ' \"The Dark Knight: a masterpiece that transcends the superhero genre. Heath Ledger\\'s Joker is a chilling portrayal of chaos and anarchy. A true cinematic triumph. #TheDarkKnight #HeathLedger #MovieMasterpiece\"', 'linkedin': \" Absolute classic, The Dark Knight continues to be one of my all-time favorite films, and I'm sure many of you will agree. Heath Ledger's iconic and chilling portrayal of the Joker elevated the film to a whole new level, earning him a well-deserved posthumous Academy Award. With its gripping storyline, exquisite cinematography, and exceptional performances from the entire cast, this film remains a timeless masterpiece in the world of cinema. I'd love to hear your thoughts and memories of The Dark Knight, so drop a comment below! #TheDarkKnight #HeathLedger #MovieMasterpiece #CinemaLegend 🍿🎬\"}\n"
     ]
    }
   ],
   "source": [
    "from langchain_huggingface import ChatHuggingFace, HuggingFaceEndpoint\n",
    "from langchain_core.prompts import PromptTemplate\n",
    "from langchain_core.output_parsers import StrOutputParser\n",
    "from dotenv import load_dotenv\n",
    "import os\n",
    "from langchain.schema.runnable import RunnableSequence, RunnableParallel\n",
    "\n",
    "load_dotenv()\n",
    "\n",
    "llm = HuggingFaceEndpoint(\n",
    "    repo_id=\"mistralai/Mixtral-8x7B-Instruct-v0.1\",\n",
    "    task=\"text-generation\",\n",
    "    huggingfacehub_api_token=os.getenv(\"HUGGINGFACEHUB_ACCESS_TOKEN\")\n",
    ")\n",
    "\n",
    "model = ChatHuggingFace(llm=llm)\n",
    "\n",
    "parser = StrOutputParser()\n",
    "\n",
    "\n",
    "prompt1 = PromptTemplate(\n",
    "    template=\"generate a tweet about the {topic}\",\n",
    "    input_variables=[\"topic\"]\n",
    ")\n",
    "\n",
    "prompt2 = PromptTemplate(\n",
    "    template=\"generate a linkedin post about the {topic}\",\n",
    "    input_variables=[\"topic\"]\n",
    ")\n",
    "\n",
    "\n",
    "chain1 = RunnableSequence(prompt1, model, parser)\n",
    "\n",
    "chain2 = RunnableSequence(prompt2, model, parser)\n",
    "\n",
    "parallel_chain = RunnableParallel({\n",
    "    \"tweet\" : chain1,\n",
    "    \"linkedin\" : chain2\n",
    "})\n",
    "\n",
    "result = parallel_chain.invoke({\"topic\": \"The dark Knight\"})\n",
    "\n",
    "print(result)\n",
    "\n"
   ]
  },
  {
   "cell_type": "code",
   "execution_count": 3,
   "id": "c964cf73",
   "metadata": {},
   "outputs": [
    {
     "name": "stdout",
     "output_type": "stream",
     "text": [
      "            +-------------------------------+            \n",
      "            | Parallel<tweet,linkedin>Input |            \n",
      "            +-------------------------------+            \n",
      "                  ***               ***                  \n",
      "               ***                     ***               \n",
      "             **                           **             \n",
      "+----------------+                    +----------------+ \n",
      "| PromptTemplate |                    | PromptTemplate | \n",
      "+----------------+                    +----------------+ \n",
      "          *                                   *          \n",
      "          *                                   *          \n",
      "          *                                   *          \n",
      "+-----------------+                  +-----------------+ \n",
      "| ChatHuggingFace |                  | ChatHuggingFace | \n",
      "+-----------------+                  +-----------------+ \n",
      "          *                                   *          \n",
      "          *                                   *          \n",
      "          *                                   *          \n",
      "+-----------------+                  +-----------------+ \n",
      "| StrOutputParser |                  | StrOutputParser | \n",
      "+-----------------+                  +-----------------+ \n",
      "                  ***               ***                  \n",
      "                     ***         ***                     \n",
      "                        **     **                        \n",
      "           +--------------------------------+            \n",
      "           | Parallel<tweet,linkedin>Output |            \n",
      "           +--------------------------------+            \n"
     ]
    }
   ],
   "source": [
    "parallel_chain.get_graph().print_ascii()"
   ]
  },
  {
   "cell_type": "code",
   "execution_count": null,
   "id": "23ccdcd1",
   "metadata": {},
   "outputs": [],
   "source": []
  }
 ],
 "metadata": {
  "kernelspec": {
   "display_name": "myenv",
   "language": "python",
   "name": "python3"
  },
  "language_info": {
   "codemirror_mode": {
    "name": "ipython",
    "version": 3
   },
   "file_extension": ".py",
   "mimetype": "text/x-python",
   "name": "python",
   "nbconvert_exporter": "python",
   "pygments_lexer": "ipython3",
   "version": "3.11.4"
  }
 },
 "nbformat": 4,
 "nbformat_minor": 5
}
