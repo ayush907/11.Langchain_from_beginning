{
 "cells": [
  {
   "cell_type": "code",
   "execution_count": 1,
   "id": "d93f9288",
   "metadata": {},
   "outputs": [],
   "source": [
    "from langchain_huggingface import HuggingFaceEmbeddings\n",
    "from langchain.vectorstores import Chroma"
   ]
  },
  {
   "cell_type": "code",
   "execution_count": 2,
   "id": "be103625",
   "metadata": {},
   "outputs": [],
   "source": [
    "from langchain.schema import Document\n",
    "\n",
    "doc1 = Document(\n",
    "    page_content=\"Virat Kohli is one of the most prolific batsmen in the world and a former captain of the Indian national team. He has been a key player for Royal Challengers Bangalore (RCB) since the inception of the IPL in 2008. Known for his aggressive batting style and unmatched consistency, Kohli holds the record for the most runs in IPL history.\",\n",
    "    metadata={\"team\": \"Royal Challengers Bangalore\"}\n",
    ")\n",
    "\n",
    "doc2 = Document(\n",
    "    page_content=\"Rohit Sharma is the captain of Mumbai Indians and one of the most successful leaders in IPL history. Under his leadership, MI has won five IPL titles. Sharma is known for his elegant stroke play and ability to play big innings, making him one of the most dangerous openers in T20 cricket.\",\n",
    "    metadata={\"team\": \"Mumbai Indians\"}\n",
    ")\n",
    "\n",
    "doc3 = Document(\n",
    "    page_content=\"MS Dhoni, also known as 'Captain Cool', is the iconic leader of Chennai Super Kings. Renowned for his calm demeanor, sharp cricketing brain, and finishing abilities, Dhoni has led CSK to five IPL titles. He is one of the most respected figures in Indian and world cricket.\",\n",
    "    metadata={\"team\": \"Chennai Super Kings\"}\n",
    ")\n",
    "\n",
    "doc4 = Document(\n",
    "    page_content=\"Andre Russell is a powerful all-rounder from the West Indies who plays for Kolkata Knight Riders in the IPL. Known for his explosive batting and ability to change the course of a match within a few overs, Russell is also a handy bowler in the death overs.\",\n",
    "    metadata={\"team\": \"Kolkata Knight Riders\"}\n",
    ")\n",
    "\n",
    "doc5 = Document(\n",
    "    page_content=\"Sanju Samson is a stylish wicketkeeper-batsman and the current captain of Rajasthan Royals. Known for his graceful strokeplay and calm presence on the field, Sanju has become a key player for RR and has shown potential to be a future star of Indian cricket.\",\n",
    "    metadata={\"team\": \"Rajasthan Royals\"}\n",
    ")\n"
   ]
  },
  {
   "cell_type": "code",
   "execution_count": 3,
   "id": "ee5a5285",
   "metadata": {},
   "outputs": [],
   "source": [
    "docs = [doc1, doc2, doc3, doc4, doc5]"
   ]
  },
  {
   "cell_type": "code",
   "execution_count": 4,
   "id": "fe3de8c9",
   "metadata": {},
   "outputs": [
    {
     "name": "stderr",
     "output_type": "stream",
     "text": [
      "c:\\Users\\dheka\\OneDrive\\Desktop\\11.Langchain_from_beginning\\myenv\\Lib\\site-packages\\tqdm\\auto.py:21: TqdmWarning: IProgress not found. Please update jupyter and ipywidgets. See https://ipywidgets.readthedocs.io/en/stable/user_install.html\n",
      "  from .autonotebook import tqdm as notebook_tqdm\n",
      "C:\\Users\\dheka\\AppData\\Local\\Temp\\ipykernel_15136\\1656595913.py:1: LangChainDeprecationWarning: The class `Chroma` was deprecated in LangChain 0.2.9 and will be removed in 1.0. An updated version of the class exists in the :class:`~langchain-chroma package and should be used instead. To use it run `pip install -U :class:`~langchain-chroma` and import as `from :class:`~langchain_chroma import Chroma``.\n",
      "  vector_store = Chroma(\n"
     ]
    }
   ],
   "source": [
    "vector_store = Chroma(\n",
    "    embedding_function = HuggingFaceEmbeddings(),\n",
    "    persist_directory = \"chroma_db\",\n",
    "    collection_name = \"sample\"\n",
    ")"
   ]
  },
  {
   "cell_type": "code",
   "execution_count": 5,
   "id": "5befec94",
   "metadata": {},
   "outputs": [
    {
     "data": {
      "text/plain": [
       "['e29446f3-e292-444e-9375-81d13b239357',\n",
       " 'b3cc928b-9f1a-4a53-b19a-4c41d2ef7e56',\n",
       " '06551e62-28df-4adb-adfe-07303703a113',\n",
       " 'be1811e4-e21f-4ce4-bbc4-426a044765c8',\n",
       " '155f4bc3-dd99-4c11-9ffb-4c8531e327df']"
      ]
     },
     "execution_count": 5,
     "metadata": {},
     "output_type": "execute_result"
    }
   ],
   "source": [
    "# add documents\n",
    "\n",
    "vector_store.add_documents(docs)"
   ]
  },
  {
   "cell_type": "code",
   "execution_count": 6,
   "id": "c38e416e",
   "metadata": {},
   "outputs": [
    {
     "data": {
      "text/plain": [
       "{'ids': ['e29446f3-e292-444e-9375-81d13b239357',\n",
       "  'b3cc928b-9f1a-4a53-b19a-4c41d2ef7e56',\n",
       "  '06551e62-28df-4adb-adfe-07303703a113',\n",
       "  'be1811e4-e21f-4ce4-bbc4-426a044765c8',\n",
       "  '155f4bc3-dd99-4c11-9ffb-4c8531e327df'],\n",
       " 'embeddings': array([[-0.03445228, -0.01802882, -0.02549713, ...,  0.02815777,\n",
       "         -0.03473779, -0.01223361],\n",
       "        [-0.02663044, -0.01677458, -0.00829548, ...,  0.0181861 ,\n",
       "         -0.0155395 , -0.01618778],\n",
       "        [-0.02728821, -0.01352265, -0.01073592, ...,  0.04486597,\n",
       "         -0.03755564,  0.00745331],\n",
       "        [-0.03269751, -0.01256396, -0.00167778, ...,  0.00346175,\n",
       "         -0.00644564,  0.01789847],\n",
       "        [ 0.0008253 ,  0.01221396, -0.00996356, ...,  0.03173205,\n",
       "         -0.01750319, -0.02061303]], shape=(5, 768)),\n",
       " 'documents': ['Virat Kohli is one of the most prolific batsmen in the world and a former captain of the Indian national team. He has been a key player for Royal Challengers Bangalore (RCB) since the inception of the IPL in 2008. Known for his aggressive batting style and unmatched consistency, Kohli holds the record for the most runs in IPL history.',\n",
       "  'Rohit Sharma is the captain of Mumbai Indians and one of the most successful leaders in IPL history. Under his leadership, MI has won five IPL titles. Sharma is known for his elegant stroke play and ability to play big innings, making him one of the most dangerous openers in T20 cricket.',\n",
       "  \"MS Dhoni, also known as 'Captain Cool', is the iconic leader of Chennai Super Kings. Renowned for his calm demeanor, sharp cricketing brain, and finishing abilities, Dhoni has led CSK to five IPL titles. He is one of the most respected figures in Indian and world cricket.\",\n",
       "  'Andre Russell is a powerful all-rounder from the West Indies who plays for Kolkata Knight Riders in the IPL. Known for his explosive batting and ability to change the course of a match within a few overs, Russell is also a handy bowler in the death overs.',\n",
       "  'Sanju Samson is a stylish wicketkeeper-batsman and the current captain of Rajasthan Royals. Known for his graceful strokeplay and calm presence on the field, Sanju has become a key player for RR and has shown potential to be a future star of Indian cricket.'],\n",
       " 'uris': None,\n",
       " 'included': ['embeddings', 'documents', 'metadatas'],\n",
       " 'data': None,\n",
       " 'metadatas': [{'team': 'Royal Challengers Bangalore'},\n",
       "  {'team': 'Mumbai Indians'},\n",
       "  {'team': 'Chennai Super Kings'},\n",
       "  {'team': 'Kolkata Knight Riders'},\n",
       "  {'team': 'Rajasthan Royals'}]}"
      ]
     },
     "execution_count": 6,
     "metadata": {},
     "output_type": "execute_result"
    }
   ],
   "source": [
    "# view documents\n",
    "vector_store.get(include=[\"embeddings\", \"documents\", \"metadatas\"])"
   ]
  },
  {
   "cell_type": "code",
   "execution_count": 7,
   "id": "6a3a3aa6",
   "metadata": {},
   "outputs": [
    {
     "data": {
      "text/plain": [
       "[Document(metadata={'team': 'Royal Challengers Bangalore'}, page_content='Virat Kohli is one of the most prolific batsmen in the world and a former captain of the Indian national team. He has been a key player for Royal Challengers Bangalore (RCB) since the inception of the IPL in 2008. Known for his aggressive batting style and unmatched consistency, Kohli holds the record for the most runs in IPL history.'),\n",
       " Document(metadata={'team': 'Chennai Super Kings'}, page_content=\"MS Dhoni, also known as 'Captain Cool', is the iconic leader of Chennai Super Kings. Renowned for his calm demeanor, sharp cricketing brain, and finishing abilities, Dhoni has led CSK to five IPL titles. He is one of the most respected figures in Indian and world cricket.\")]"
      ]
     },
     "execution_count": 7,
     "metadata": {},
     "output_type": "execute_result"
    }
   ],
   "source": [
    "# search documents\n",
    "vector_store.similarity_search(\n",
    "    query=\"who among these is a batsman?\",\n",
    "    k=2\n",
    ")"
   ]
  },
  {
   "cell_type": "code",
   "execution_count": 8,
   "id": "6bf84ae6",
   "metadata": {},
   "outputs": [
    {
     "data": {
      "text/plain": [
       "[(Document(metadata={'team': 'Kolkata Knight Riders'}, page_content='Andre Russell is a powerful all-rounder from the West Indies who plays for Kolkata Knight Riders in the IPL. Known for his explosive batting and ability to change the course of a match within a few overs, Russell is also a handy bowler in the death overs.'),\n",
       "  1.1004161834716797),\n",
       " (Document(metadata={'team': 'Mumbai Indians'}, page_content='Rohit Sharma is the captain of Mumbai Indians and one of the most successful leaders in IPL history. Under his leadership, MI has won five IPL titles. Sharma is known for his elegant stroke play and ability to play big innings, making him one of the most dangerous openers in T20 cricket.'),\n",
       "  1.1188393831253052)]"
      ]
     },
     "execution_count": 8,
     "metadata": {},
     "output_type": "execute_result"
    }
   ],
   "source": [
    "# search with similarity score\n",
    "vector_store.similarity_search_with_score(\n",
    "    query = \"who among these is a all rounder?\",\n",
    "    k=2\n",
    ")"
   ]
  },
  {
   "cell_type": "code",
   "execution_count": 9,
   "id": "3d8081f4",
   "metadata": {},
   "outputs": [
    {
     "data": {
      "text/plain": [
       "[(Document(metadata={'team': 'Chennai Super Kings'}, page_content=\"MS Dhoni, also known as 'Captain Cool', is the iconic leader of Chennai Super Kings. Renowned for his calm demeanor, sharp cricketing brain, and finishing abilities, Dhoni has led CSK to five IPL titles. He is one of the most respected figures in Indian and world cricket.\"),\n",
       "  1.8490792512893677)]"
      ]
     },
     "execution_count": 9,
     "metadata": {},
     "output_type": "execute_result"
    }
   ],
   "source": [
    "# meta data filtering\n",
    "vector_store.similarity_search_with_score(\n",
    "    query = \"\",\n",
    "    filter = {'team': 'Chennai Super Kings'}\n",
    ")"
   ]
  },
  {
   "cell_type": "code",
   "execution_count": 10,
   "id": "8a4f6316",
   "metadata": {},
   "outputs": [],
   "source": [
    "# update documents\n",
    "updated_doc1 = Document(\n",
    "    page_content = \"Royal Challengers Bangalore is a popular IPL team with star players like Virat Kohli. Though they haven't won the title, they remain a fan favorite.\",\n",
    "    metadata = {\"team\": \"Royal Challengers Bangalore\"}\n",
    ")\n",
    "\n",
    "vector_store.update_document(document_id='b8dcb314-b103-43be-964c-ef1eebafd491', document=updated_doc1)\n"
   ]
  },
  {
   "cell_type": "code",
   "execution_count": 11,
   "id": "7761a79d",
   "metadata": {},
   "outputs": [
    {
     "data": {
      "text/plain": [
       "{'ids': ['e29446f3-e292-444e-9375-81d13b239357',\n",
       "  'b3cc928b-9f1a-4a53-b19a-4c41d2ef7e56',\n",
       "  '06551e62-28df-4adb-adfe-07303703a113',\n",
       "  'be1811e4-e21f-4ce4-bbc4-426a044765c8',\n",
       "  '155f4bc3-dd99-4c11-9ffb-4c8531e327df'],\n",
       " 'embeddings': array([[-0.03445228, -0.01802882, -0.02549713, ...,  0.02815777,\n",
       "         -0.03473779, -0.01223361],\n",
       "        [-0.02663044, -0.01677458, -0.00829548, ...,  0.0181861 ,\n",
       "         -0.0155395 , -0.01618778],\n",
       "        [-0.02728821, -0.01352265, -0.01073592, ...,  0.04486597,\n",
       "         -0.03755564,  0.00745331],\n",
       "        [-0.03269751, -0.01256396, -0.00167778, ...,  0.00346175,\n",
       "         -0.00644564,  0.01789847],\n",
       "        [ 0.0008253 ,  0.01221396, -0.00996356, ...,  0.03173205,\n",
       "         -0.01750319, -0.02061303]], shape=(5, 768)),\n",
       " 'documents': ['Virat Kohli is one of the most prolific batsmen in the world and a former captain of the Indian national team. He has been a key player for Royal Challengers Bangalore (RCB) since the inception of the IPL in 2008. Known for his aggressive batting style and unmatched consistency, Kohli holds the record for the most runs in IPL history.',\n",
       "  'Rohit Sharma is the captain of Mumbai Indians and one of the most successful leaders in IPL history. Under his leadership, MI has won five IPL titles. Sharma is known for his elegant stroke play and ability to play big innings, making him one of the most dangerous openers in T20 cricket.',\n",
       "  \"MS Dhoni, also known as 'Captain Cool', is the iconic leader of Chennai Super Kings. Renowned for his calm demeanor, sharp cricketing brain, and finishing abilities, Dhoni has led CSK to five IPL titles. He is one of the most respected figures in Indian and world cricket.\",\n",
       "  'Andre Russell is a powerful all-rounder from the West Indies who plays for Kolkata Knight Riders in the IPL. Known for his explosive batting and ability to change the course of a match within a few overs, Russell is also a handy bowler in the death overs.',\n",
       "  'Sanju Samson is a stylish wicketkeeper-batsman and the current captain of Rajasthan Royals. Known for his graceful strokeplay and calm presence on the field, Sanju has become a key player for RR and has shown potential to be a future star of Indian cricket.'],\n",
       " 'uris': None,\n",
       " 'included': ['embeddings', 'documents', 'metadatas'],\n",
       " 'data': None,\n",
       " 'metadatas': [{'team': 'Royal Challengers Bangalore'},\n",
       "  {'team': 'Mumbai Indians'},\n",
       "  {'team': 'Chennai Super Kings'},\n",
       "  {'team': 'Kolkata Knight Riders'},\n",
       "  {'team': 'Rajasthan Royals'}]}"
      ]
     },
     "execution_count": 11,
     "metadata": {},
     "output_type": "execute_result"
    }
   ],
   "source": [
    "# view documents\n",
    "vector_store.get(include=[\"embeddings\", \"documents\", \"metadatas\"])"
   ]
  },
  {
   "cell_type": "code",
   "execution_count": 12,
   "id": "79e35b70",
   "metadata": {},
   "outputs": [],
   "source": [
    "# delete document\n",
    "vector_store.delete(ids=[\"b8dcb314-b103-43be-964c-ef1eebafd491\"])"
   ]
  },
  {
   "cell_type": "code",
   "execution_count": 13,
   "id": "9346e0c8",
   "metadata": {},
   "outputs": [
    {
     "data": {
      "text/plain": [
       "{'ids': ['e29446f3-e292-444e-9375-81d13b239357',\n",
       "  'b3cc928b-9f1a-4a53-b19a-4c41d2ef7e56',\n",
       "  '06551e62-28df-4adb-adfe-07303703a113',\n",
       "  'be1811e4-e21f-4ce4-bbc4-426a044765c8',\n",
       "  '155f4bc3-dd99-4c11-9ffb-4c8531e327df'],\n",
       " 'embeddings': array([[-0.03445228, -0.01802882, -0.02549713, ...,  0.02815777,\n",
       "         -0.03473779, -0.01223361],\n",
       "        [-0.02663044, -0.01677458, -0.00829548, ...,  0.0181861 ,\n",
       "         -0.0155395 , -0.01618778],\n",
       "        [-0.02728821, -0.01352265, -0.01073592, ...,  0.04486597,\n",
       "         -0.03755564,  0.00745331],\n",
       "        [-0.03269751, -0.01256396, -0.00167778, ...,  0.00346175,\n",
       "         -0.00644564,  0.01789847],\n",
       "        [ 0.0008253 ,  0.01221396, -0.00996356, ...,  0.03173205,\n",
       "         -0.01750319, -0.02061303]], shape=(5, 768)),\n",
       " 'documents': ['Virat Kohli is one of the most prolific batsmen in the world and a former captain of the Indian national team. He has been a key player for Royal Challengers Bangalore (RCB) since the inception of the IPL in 2008. Known for his aggressive batting style and unmatched consistency, Kohli holds the record for the most runs in IPL history.',\n",
       "  'Rohit Sharma is the captain of Mumbai Indians and one of the most successful leaders in IPL history. Under his leadership, MI has won five IPL titles. Sharma is known for his elegant stroke play and ability to play big innings, making him one of the most dangerous openers in T20 cricket.',\n",
       "  \"MS Dhoni, also known as 'Captain Cool', is the iconic leader of Chennai Super Kings. Renowned for his calm demeanor, sharp cricketing brain, and finishing abilities, Dhoni has led CSK to five IPL titles. He is one of the most respected figures in Indian and world cricket.\",\n",
       "  'Andre Russell is a powerful all-rounder from the West Indies who plays for Kolkata Knight Riders in the IPL. Known for his explosive batting and ability to change the course of a match within a few overs, Russell is also a handy bowler in the death overs.',\n",
       "  'Sanju Samson is a stylish wicketkeeper-batsman and the current captain of Rajasthan Royals. Known for his graceful strokeplay and calm presence on the field, Sanju has become a key player for RR and has shown potential to be a future star of Indian cricket.'],\n",
       " 'uris': None,\n",
       " 'included': ['embeddings', 'documents', 'metadatas'],\n",
       " 'data': None,\n",
       " 'metadatas': [{'team': 'Royal Challengers Bangalore'},\n",
       "  {'team': 'Mumbai Indians'},\n",
       "  {'team': 'Chennai Super Kings'},\n",
       "  {'team': 'Kolkata Knight Riders'},\n",
       "  {'team': 'Rajasthan Royals'}]}"
      ]
     },
     "execution_count": 13,
     "metadata": {},
     "output_type": "execute_result"
    }
   ],
   "source": [
    "# view documents\n",
    "vector_store.get(include=[\"embeddings\", \"documents\", \"metadatas\"])"
   ]
  },
  {
   "cell_type": "code",
   "execution_count": null,
   "id": "b83cb305",
   "metadata": {},
   "outputs": [],
   "source": []
  }
 ],
 "metadata": {
  "kernelspec": {
   "display_name": "myenv",
   "language": "python",
   "name": "python3"
  },
  "language_info": {
   "codemirror_mode": {
    "name": "ipython",
    "version": 3
   },
   "file_extension": ".py",
   "mimetype": "text/x-python",
   "name": "python",
   "nbconvert_exporter": "python",
   "pygments_lexer": "ipython3",
   "version": "3.11.4"
  }
 },
 "nbformat": 4,
 "nbformat_minor": 5
}
