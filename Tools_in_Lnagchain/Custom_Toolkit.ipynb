{
 "cells": [
  {
   "cell_type": "markdown",
   "id": "7e1dc5c2",
   "metadata": {},
   "source": [
    "# Toolkit"
   ]
  },
  {
   "cell_type": "code",
   "execution_count": 11,
   "id": "965100c7",
   "metadata": {},
   "outputs": [],
   "source": [
    "from langchain_core.tools import tool"
   ]
  },
  {
   "cell_type": "code",
   "execution_count": 12,
   "id": "7d6caced",
   "metadata": {},
   "outputs": [],
   "source": [
    "# Custom Tools\n",
    "\n",
    "@tool\n",
    "def add(a: int, b: int) -> int:\n",
    "    \"\"\"Adds two numbers together.\"\"\"\n",
    "    return a + b\n",
    "\n",
    "\n",
    "@tool\n",
    "def multiply(a: int, b: int) -> int:\n",
    "    \"\"\"Multiplies two numbers together.\"\"\"\n",
    "    return a * b"
   ]
  },
  {
   "cell_type": "code",
   "execution_count": 13,
   "id": "969fafc2",
   "metadata": {},
   "outputs": [],
   "source": [
    "class Mathtoolkit:\n",
    "\n",
    "    def get_tools(self):\n",
    "        return [add, multiply]"
   ]
  },
  {
   "cell_type": "code",
   "execution_count": 14,
   "id": "1f27a431",
   "metadata": {},
   "outputs": [],
   "source": [
    "toolkit = Mathtoolkit()\n",
    "\n",
    "tools = toolkit.get_tools()"
   ]
  },
  {
   "cell_type": "code",
   "execution_count": 19,
   "id": "9148551d",
   "metadata": {},
   "outputs": [
    {
     "name": "stdout",
     "output_type": "stream",
     "text": [
      "name => add  &  description => Adds two numbers together.\n",
      "name => multiply  &  description => Multiplies two numbers together.\n"
     ]
    }
   ],
   "source": [
    "for tool in tools: \n",
    "    print(f\"name => {tool.name}  &  description => {tool.description}\")"
   ]
  },
  {
   "cell_type": "code",
   "execution_count": null,
   "id": "90ee7ae2",
   "metadata": {},
   "outputs": [],
   "source": []
  }
 ],
 "metadata": {
  "kernelspec": {
   "display_name": "myenv",
   "language": "python",
   "name": "python3"
  },
  "language_info": {
   "codemirror_mode": {
    "name": "ipython",
    "version": 3
   },
   "file_extension": ".py",
   "mimetype": "text/x-python",
   "name": "python",
   "nbconvert_exporter": "python",
   "pygments_lexer": "ipython3",
   "version": "3.11.4"
  }
 },
 "nbformat": 4,
 "nbformat_minor": 5
}
