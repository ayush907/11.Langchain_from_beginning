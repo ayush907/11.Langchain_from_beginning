{
 "cells": [
  {
   "cell_type": "markdown",
   "id": "432de357",
   "metadata": {},
   "source": [
    "1. DuckDuckGoSearchRun"
   ]
  },
  {
   "cell_type": "code",
   "execution_count": 22,
   "id": "ca68ab56",
   "metadata": {},
   "outputs": [
    {
     "name": "stdout",
     "output_type": "stream",
     "text": [
      "Allegedly, red rooms are hidden live streams on the dark web where people can pay to watch torture or murder as it happens, with viewers even able to dictate the fate of the victims. The rooms are said to exist on the Dark Web, which is inaccessible via the usual Internet and only reachable through Tor or I2P-type tools. The principal features of the purported Red Rooms are as ... The dark web is a small subset of the deep web and is largely accessed through the network Tor, also known as \"The Onion Routing\" project. One of the chief arguments against the existence of red rooms is the claim that Tor is unable to stream live video.. Tor is not the only way to access the deep web, but using any other network makes red room access even more difficult. Red Rooms, a French-Canadian film that made the festival rounds in 2023 before finally hitting video-on-demand in October of this year, is oddly disturbing.. Not because of the subject matter; the subject matter is straightforwardly disturbing. Ludovic Chevalier (Maxwell McCabe-Lokos) is on trial for killing three young girls and livestreaming their torture and murder to miscreants on the dark ... Red Rooms is about things that happen in the dark corners of the internet. Naturally it found an audience of fans who pirated it there.\n"
     ]
    }
   ],
   "source": [
    "from langchain_community.tools import DuckDuckGoSearchRun\n",
    "\n",
    "search_tool = DuckDuckGoSearchRun()\n",
    "\n",
    "results = search_tool.invoke(\"what are red rooms in the dark web?\")\n",
    "\n",
    "print(results)"
   ]
  },
  {
   "cell_type": "code",
   "execution_count": 23,
   "id": "511dc659",
   "metadata": {},
   "outputs": [
    {
     "name": "stdout",
     "output_type": "stream",
     "text": [
      "duckduckgo_search\n",
      "A wrapper around DuckDuckGo Search. Useful for when you need to answer questions about current events. Input should be a search query.\n",
      "{'query': {'description': 'search query to look up', 'title': 'Query', 'type': 'string'}}\n"
     ]
    }
   ],
   "source": [
    "print(search_tool.name)\n",
    "print(search_tool.description)\n",
    "print(search_tool.args)"
   ]
  },
  {
   "cell_type": "markdown",
   "id": "0f380d77",
   "metadata": {},
   "source": [
    "2. Shell Tool"
   ]
  },
  {
   "cell_type": "code",
   "execution_count": 24,
   "id": "8d580174",
   "metadata": {},
   "outputs": [
    {
     "name": "stdout",
     "output_type": "stream",
     "text": [
      "Executing command:\n",
      " whoami\n",
      "lenovo_v15\\dheka\n",
      "\n"
     ]
    },
    {
     "name": "stderr",
     "output_type": "stream",
     "text": [
      "c:\\Users\\dheka\\OneDrive\\Desktop\\11.Langchain_from_beginning\\myenv\\Lib\\site-packages\\langchain_community\\tools\\shell\\tool.py:33: UserWarning: The shell tool has no safeguards by default. Use at your own risk.\n",
      "  warnings.warn(\n"
     ]
    }
   ],
   "source": [
    "from langchain_community.tools import ShellTool\n",
    "\n",
    "shell_tool = ShellTool()\n",
    "\n",
    "results = shell_tool.invoke(\"whoami\")\n",
    "\n",
    "print(results)"
   ]
  },
  {
   "cell_type": "code",
   "execution_count": null,
   "id": "9af03520",
   "metadata": {},
   "outputs": [],
   "source": []
  }
 ],
 "metadata": {
  "kernelspec": {
   "display_name": "myenv",
   "language": "python",
   "name": "python3"
  },
  "language_info": {
   "codemirror_mode": {
    "name": "ipython",
    "version": 3
   },
   "file_extension": ".py",
   "mimetype": "text/x-python",
   "name": "python",
   "nbconvert_exporter": "python",
   "pygments_lexer": "ipython3",
   "version": "3.11.4"
  }
 },
 "nbformat": 4,
 "nbformat_minor": 5
}
