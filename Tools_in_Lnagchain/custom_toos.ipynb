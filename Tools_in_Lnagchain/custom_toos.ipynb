{
 "cells": [
  {
   "cell_type": "markdown",
   "id": "cd87c361",
   "metadata": {},
   "source": [
    "# Custom Tools"
   ]
  },
  {
   "cell_type": "code",
   "execution_count": 1,
   "id": "b1472c8a",
   "metadata": {},
   "outputs": [],
   "source": [
    "from langchain_core.tools import  tool"
   ]
  },
  {
   "cell_type": "code",
   "execution_count": 2,
   "id": "fa1677f1",
   "metadata": {},
   "outputs": [],
   "source": [
    "# step 1. create a function\n",
    "\n",
    "def multiply(a, b):\n",
    "    \"\"\"multiply the numbers\"\"\"\n",
    "    return a * b"
   ]
  },
  {
   "cell_type": "code",
   "execution_count": 3,
   "id": "bb5da509",
   "metadata": {},
   "outputs": [],
   "source": [
    "# step 2. add type hints\n",
    "def multiply(a: int, b: int) -> int:\n",
    "    \"\"\"multiply the numbers\"\"\"\n",
    "    return a * b"
   ]
  },
  {
   "cell_type": "code",
   "execution_count": 4,
   "id": "c1144895",
   "metadata": {},
   "outputs": [],
   "source": [
    "# step 3. add tool decorator\n",
    "@tool\n",
    "def multiply(a: int, b: int) -> int:\n",
    "    \"\"\"multiply the numbers\"\"\"\n",
    "    return a * b"
   ]
  },
  {
   "cell_type": "code",
   "execution_count": 5,
   "id": "cc06e670",
   "metadata": {},
   "outputs": [],
   "source": [
    "result = multiply.invoke({\"a\": 2, \"b\": 3})"
   ]
  },
  {
   "cell_type": "code",
   "execution_count": 6,
   "id": "f181780d",
   "metadata": {},
   "outputs": [
    {
     "name": "stdout",
     "output_type": "stream",
     "text": [
      "6\n"
     ]
    }
   ],
   "source": [
    "print(result)"
   ]
  },
  {
   "cell_type": "code",
   "execution_count": 7,
   "id": "3917308b",
   "metadata": {},
   "outputs": [
    {
     "name": "stdout",
     "output_type": "stream",
     "text": [
      "multiply\n",
      "multiply the numbers\n",
      "{'a': {'title': 'A', 'type': 'integer'}, 'b': {'title': 'B', 'type': 'integer'}}\n"
     ]
    }
   ],
   "source": [
    "print(multiply.name)\n",
    "print(multiply.description)\n",
    "print(multiply.args)"
   ]
  },
  {
   "cell_type": "code",
   "execution_count": 8,
   "id": "31321398",
   "metadata": {},
   "outputs": [
    {
     "name": "stdout",
     "output_type": "stream",
     "text": [
      "{'description': 'multiply the numbers', 'properties': {'a': {'title': 'A', 'type': 'integer'}, 'b': {'title': 'B', 'type': 'integer'}}, 'required': ['a', 'b'], 'title': 'multiply', 'type': 'object'}\n"
     ]
    }
   ],
   "source": [
    "print(multiply.args_schema.model_json_schema())"
   ]
  },
  {
   "cell_type": "code",
   "execution_count": null,
   "id": "d33c7d2f",
   "metadata": {},
   "outputs": [],
   "source": []
  }
 ],
 "metadata": {
  "kernelspec": {
   "display_name": "myenv",
   "language": "python",
   "name": "python3"
  },
  "language_info": {
   "codemirror_mode": {
    "name": "ipython",
    "version": 3
   },
   "file_extension": ".py",
   "mimetype": "text/x-python",
   "name": "python",
   "nbconvert_exporter": "python",
   "pygments_lexer": "ipython3",
   "version": "3.11.4"
  }
 },
 "nbformat": 4,
 "nbformat_minor": 5
}
