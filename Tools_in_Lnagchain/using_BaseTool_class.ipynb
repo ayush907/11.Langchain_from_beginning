{
 "cells": [
  {
   "cell_type": "markdown",
   "id": "730ad722",
   "metadata": {},
   "source": [
    "Mehtod 3 - Using Base Tool Class"
   ]
  },
  {
   "cell_type": "code",
   "execution_count": 4,
   "id": "d84ff558",
   "metadata": {},
   "outputs": [],
   "source": [
    "from langchain.tools import BaseTool\n",
    "from typing import Type\n",
    "from pydantic import BaseModel, Field"
   ]
  },
  {
   "cell_type": "code",
   "execution_count": 5,
   "id": "536b2769",
   "metadata": {},
   "outputs": [],
   "source": [
    "# arg schema using  pydantic\n",
    "class MultiplyInput(BaseModel):\n",
    "    a: int = Field(required=True, description=\"First number to multiply\")\n",
    "    b: int = Field(required=True, description=\"Second number to multiply\")\n"
   ]
  },
  {
   "cell_type": "code",
   "execution_count": 6,
   "id": "d86c133f",
   "metadata": {},
   "outputs": [],
   "source": [
    "class MultiplyTool(BaseTool):\n",
    "    name: str = \"multiply\"\n",
    "    description: str = \"multiplies two numbers together\"\n",
    "\n",
    "    args_schema: Type[BaseModel] = MultiplyInput\n",
    "\n",
    "    def _run(self, a: int, b: int) -> int:\n",
    "        return a * b"
   ]
  },
  {
   "cell_type": "code",
   "execution_count": 7,
   "id": "52e59fa6",
   "metadata": {},
   "outputs": [],
   "source": [
    "multiply_tool = MultiplyTool()"
   ]
  },
  {
   "cell_type": "code",
   "execution_count": 8,
   "id": "7eaeaebc",
   "metadata": {},
   "outputs": [],
   "source": [
    "result = multiply_tool.invoke({\"a\": 3, \"b\": 4})"
   ]
  },
  {
   "cell_type": "code",
   "execution_count": 9,
   "id": "c8f70a11",
   "metadata": {},
   "outputs": [
    {
     "data": {
      "text/plain": [
       "12"
      ]
     },
     "execution_count": 9,
     "metadata": {},
     "output_type": "execute_result"
    }
   ],
   "source": [
    "result"
   ]
  },
  {
   "cell_type": "code",
   "execution_count": 10,
   "id": "103a7d88",
   "metadata": {},
   "outputs": [
    {
     "name": "stdout",
     "output_type": "stream",
     "text": [
      "multiply\n",
      "multiplies two numbers together\n",
      "{'a': {'description': 'First number to multiply', 'required': True, 'title': 'A', 'type': 'integer'}, 'b': {'description': 'Second number to multiply', 'required': True, 'title': 'B', 'type': 'integer'}}\n"
     ]
    }
   ],
   "source": [
    "print(multiply_tool.name)\n",
    "print(multiply_tool.description)\n",
    "print(multiply_tool.args)"
   ]
  },
  {
   "cell_type": "code",
   "execution_count": 13,
   "id": "b7977bd8",
   "metadata": {},
   "outputs": [
    {
     "name": "stdout",
     "output_type": "stream",
     "text": [
      "{'properties': {'a': {'description': 'First number to multiply', 'required': True, 'title': 'A', 'type': 'integer'}, 'b': {'description': 'Second number to multiply', 'required': True, 'title': 'B', 'type': 'integer'}}, 'required': ['a', 'b'], 'title': 'MultiplyInput', 'type': 'object'}\n"
     ]
    }
   ],
   "source": [
    "print(multiply_tool.args_schema.model_json_schema())"
   ]
  },
  {
   "cell_type": "code",
   "execution_count": null,
   "id": "2883e64c",
   "metadata": {},
   "outputs": [],
   "source": []
  }
 ],
 "metadata": {
  "kernelspec": {
   "display_name": "myenv",
   "language": "python",
   "name": "python3"
  },
  "language_info": {
   "codemirror_mode": {
    "name": "ipython",
    "version": 3
   },
   "file_extension": ".py",
   "mimetype": "text/x-python",
   "name": "python",
   "nbconvert_exporter": "python",
   "pygments_lexer": "ipython3",
   "version": "3.11.4"
  }
 },
 "nbformat": 4,
 "nbformat_minor": 5
}
